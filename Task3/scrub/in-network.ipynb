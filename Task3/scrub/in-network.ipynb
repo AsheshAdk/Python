{
 "cells": [
  {
   "cell_type": "code",
   "execution_count": 1,
   "id": "60cc4a72",
   "metadata": {},
   "outputs": [],
   "source": [
    "from pyspark.sql import SparkSession"
   ]
  },
  {
   "cell_type": "code",
   "execution_count": 2,
   "id": "df445ac6",
   "metadata": {},
   "outputs": [],
   "source": [
    "from pyspark.sql.functions import explode,col,expr,array,when\n",
    "from pyspark.sql.types import ArrayType, IntegerType, ShortType"
   ]
  },
  {
   "cell_type": "code",
   "execution_count": 3,
   "id": "add541da",
   "metadata": {},
   "outputs": [
    {
     "name": "stderr",
     "output_type": "stream",
     "text": [
      "25/05/09 11:22:04 WARN Utils: Your hostname, zaki-desktop resolves to a loopback address: 127.0.1.1; using 10.10.42.184 instead (on interface enp2s0)\n",
      "25/05/09 11:22:04 WARN Utils: Set SPARK_LOCAL_IP if you need to bind to another address\n",
      "Setting default log level to \"WARN\".\n",
      "To adjust logging level use sc.setLogLevel(newLevel). For SparkR, use setLogLevel(newLevel).\n",
      "25/05/09 11:22:05 WARN NativeCodeLoader: Unable to load native-hadoop library for your platform... using builtin-java classes where applicable\n",
      "25/05/09 11:22:06 WARN Utils: Service 'SparkUI' could not bind on port 4040. Attempting port 4041.\n"
     ]
    }
   ],
   "source": [
    "spark = SparkSession.builder.appName(\"task1\")\n",
    "spark = SparkSession.builder.appName('Network').config(\"spark.driver.memory\", \"4g\").getOrCreate()"
   ]
  },
  {
   "cell_type": "code",
   "execution_count": 4,
   "id": "d9c3cf4b",
   "metadata": {},
   "outputs": [
    {
     "data": {
      "text/html": [
       "\n",
       "            <div>\n",
       "                <p><b>SparkSession - in-memory</b></p>\n",
       "                \n",
       "        <div>\n",
       "            <p><b>SparkContext</b></p>\n",
       "\n",
       "            <p><a href=\"http://10.10.42.184:4041\">Spark UI</a></p>\n",
       "\n",
       "            <dl>\n",
       "              <dt>Version</dt>\n",
       "                <dd><code>v3.5.5</code></dd>\n",
       "              <dt>Master</dt>\n",
       "                <dd><code>local[*]</code></dd>\n",
       "              <dt>AppName</dt>\n",
       "                <dd><code>Network</code></dd>\n",
       "            </dl>\n",
       "        </div>\n",
       "        \n",
       "            </div>\n",
       "        "
      ],
      "text/plain": [
       "<pyspark.sql.session.SparkSession at 0x788dce9a8d90>"
      ]
     },
     "execution_count": 4,
     "metadata": {},
     "output_type": "execute_result"
    }
   ],
   "source": [
    "spark"
   ]
  },
  {
   "cell_type": "code",
   "execution_count": 5,
   "id": "5118cf12",
   "metadata": {},
   "outputs": [
    {
     "name": "stderr",
     "output_type": "stream",
     "text": [
      "                                                                                \r"
     ]
    }
   ],
   "source": [
    "df_pyspark = spark.read.option('multiline','true').json('rate.json')"
   ]
  },
  {
   "cell_type": "code",
   "execution_count": 6,
   "id": "c53fbc5f",
   "metadata": {},
   "outputs": [
    {
     "name": "stdout",
     "output_type": "stream",
     "text": [
      "root\n",
      " |-- billing_code: string (nullable = true)\n",
      " |-- billing_code_type: string (nullable = true)\n",
      " |-- billing_code_type_version: string (nullable = true)\n",
      " |-- description: string (nullable = true)\n",
      " |-- name: string (nullable = true)\n",
      " |-- negotiated_rates: array (nullable = true)\n",
      " |    |-- element: struct (containsNull = true)\n",
      " |    |    |-- negotiated_prices: array (nullable = true)\n",
      " |    |    |    |-- element: struct (containsNull = true)\n",
      " |    |    |    |    |-- additional_information: string (nullable = true)\n",
      " |    |    |    |    |-- billing_class: string (nullable = true)\n",
      " |    |    |    |    |-- billing_code_modifier: array (nullable = true)\n",
      " |    |    |    |    |    |-- element: string (containsNull = true)\n",
      " |    |    |    |    |-- expiration_date: string (nullable = true)\n",
      " |    |    |    |    |-- negotiated_rate: double (nullable = true)\n",
      " |    |    |    |    |-- negotiated_type: string (nullable = true)\n",
      " |    |    |    |    |-- service_code: array (nullable = true)\n",
      " |    |    |    |    |    |-- element: string (containsNull = true)\n",
      " |    |    |-- provider_references: array (nullable = true)\n",
      " |    |    |    |-- element: long (containsNull = true)\n",
      " |-- negotiation_arrangement: string (nullable = true)\n",
      "\n"
     ]
    }
   ],
   "source": [
    "df_pyspark.printSchema()"
   ]
  },
  {
   "cell_type": "code",
   "execution_count": 7,
   "id": "a13cfa47",
   "metadata": {},
   "outputs": [
    {
     "name": "stdout",
     "output_type": "stream",
     "text": [
      "root\n",
      " |-- billing_code: string (nullable = true)\n",
      " |-- billing_code_type: string (nullable = true)\n",
      " |-- negotiation_arrangement: string (nullable = true)\n",
      " |-- billing_code_modifier: array (nullable = true)\n",
      " |    |-- element: string (containsNull = true)\n",
      " |-- billing_class: string (nullable = true)\n",
      " |-- negotiated_rate: double (nullable = true)\n",
      " |-- service_code: array (nullable = true)\n",
      " |    |-- element: string (containsNull = true)\n",
      " |-- provider_group_id: long (nullable = true)\n",
      " |-- negotiated_type: string (nullable = true)\n",
      "\n"
     ]
    }
   ],
   "source": [
    "negotiated_rates_df = df_pyspark.withColumn(\"row1\",explode(\"negotiated_rates\"))\n",
    "negotiated_new = negotiated_rates_df.withColumn(\"id\",explode(\"row1.provider_references\"))\n",
    "negotiated_prices_df = negotiated_new.withColumn(\"row2\",explode(\"row1.negotiated_prices\"))\n",
    "\n",
    "rate_df = negotiated_prices_df.select(\"billing_code\",\"billing_code_type\",\"negotiation_arrangement\",\n",
    "                                      col(\"row2.billing_code_modifier\").alias(\"billing_code_modifier\"),\n",
    "                                      col(\"row2.billing_class\").alias(\"billing_class\"),\n",
    "                                      col(\"row2.negotiated_rate\").alias(\"negotiated_rate\"),\n",
    "                                      col(\"row2.service_code\").alias(\"service_code\"),\n",
    "                                      col(\"id\").alias(\"provider_group_id\"),\n",
    "                                      col(\"row2.negotiated_type\").alias(\"negotiated_type\"))\n",
    "rate_df.printSchema()"
   ]
  },
  {
   "cell_type": "code",
   "execution_count": 8,
   "id": "77ce3664",
   "metadata": {},
   "outputs": [
    {
     "name": "stderr",
     "output_type": "stream",
     "text": [
      "                                                                                \r"
     ]
    },
    {
     "name": "stdout",
     "output_type": "stream",
     "text": [
      "+------------+-----------------+-----------------------+---------------------+-------------+---------------+------------+-----------------+---------------+\n",
      "|billing_code|billing_code_type|negotiation_arrangement|billing_code_modifier|billing_class|negotiated_rate|service_code|provider_group_id|negotiated_type|\n",
      "+------------+-----------------+-----------------------+---------------------+-------------+---------------+------------+-----------------+---------------+\n",
      "|       PEMG1|              CPT|                    ffs|                 NULL| professional|           70.0|        [11]|         10001001|     negotiated|\n",
      "|       PEMG1|              CPT|                    ffs|                 NULL| professional|           70.0|        [11]|         10002001|     negotiated|\n",
      "|       PEMG1|              CPT|                    ffs|                 NULL| professional|           70.0|        [11]|         10003001|     negotiated|\n",
      "|       PEMG1|              CPT|                    ffs|                 NULL| professional|           70.0|        [11]|         10004001|     negotiated|\n",
      "|       PEMG1|              CPT|                    ffs|                 NULL| professional|           70.0|        [11]|         10005001|     negotiated|\n",
      "|       PEMG1|              CPT|                    ffs|                 NULL| professional|           70.0|        [11]|         10006001|     negotiated|\n",
      "|       PEMG1|              CPT|                    ffs|                 NULL| professional|           70.0|        [11]|         10007001|     negotiated|\n",
      "|       PEMG1|              CPT|                    ffs|                 NULL| professional|           70.0|        [11]|         10008001|     negotiated|\n",
      "|       PEMG1|              CPT|                    ffs|                 NULL| professional|           70.0|        [11]|         10009001|     negotiated|\n",
      "|       PEMG1|              CPT|                    ffs|                 NULL| professional|           70.0|        [11]|         10010001|     negotiated|\n",
      "+------------+-----------------+-----------------------+---------------------+-------------+---------------+------------+-----------------+---------------+\n",
      "only showing top 10 rows\n",
      "\n"
     ]
    }
   ],
   "source": [
    "rate_df.show(10)"
   ]
  },
  {
   "cell_type": "code",
   "execution_count": 9,
   "id": "3973dc22",
   "metadata": {},
   "outputs": [
    {
     "name": "stdout",
     "output_type": "stream",
     "text": [
      "root\n",
      " |-- billing_code: string (nullable = true)\n",
      " |-- billing_code_type: string (nullable = true)\n",
      " |-- negotiation_arrangement: string (nullable = true)\n",
      " |-- billing_code_modifier: array (nullable = true)\n",
      " |    |-- element: string (containsNull = true)\n",
      " |-- billing_class: string (nullable = true)\n",
      " |-- negotiated_rate: double (nullable = true)\n",
      " |-- service_code: array (nullable = true)\n",
      " |    |-- element: string (containsNull = true)\n",
      " |-- provider_group_id: long (nullable = true)\n",
      " |-- negotiated_type: string (nullable = true)\n",
      "\n"
     ]
    }
   ],
   "source": [
    "rate_df.printSchema()"
   ]
  },
  {
   "cell_type": "code",
   "execution_count": 10,
   "id": "12a19e97",
   "metadata": {},
   "outputs": [],
   "source": [
    "net_cast = rate_df.withColumn(\"service_code\", col(\"service_code\").cast(ArrayType(IntegerType())))"
   ]
  },
  {
   "cell_type": "code",
   "execution_count": 11,
   "id": "8d9161ef",
   "metadata": {},
   "outputs": [
    {
     "name": "stderr",
     "output_type": "stream",
     "text": [
      "                                                                                \r"
     ]
    }
   ],
   "source": [
    "net_cast.write.parquet('net_output.parquet')"
   ]
  },
  {
   "cell_type": "code",
   "execution_count": 12,
   "id": "94133935",
   "metadata": {},
   "outputs": [
    {
     "name": "stdout",
     "output_type": "stream",
     "text": [
      "root\n",
      " |-- billing_code: string (nullable = true)\n",
      " |-- billing_code_type: string (nullable = true)\n",
      " |-- negotiation_arrangement: string (nullable = true)\n",
      " |-- billing_code_modifier: array (nullable = true)\n",
      " |    |-- element: string (containsNull = true)\n",
      " |-- billing_class: string (nullable = true)\n",
      " |-- negotiated_rate: double (nullable = true)\n",
      " |-- service_code: array (nullable = true)\n",
      " |    |-- element: integer (containsNull = true)\n",
      " |-- provider_group_id: long (nullable = true)\n",
      " |-- negotiated_type: string (nullable = true)\n",
      "\n"
     ]
    }
   ],
   "source": [
    "net_cast.printSchema()"
   ]
  },
  {
   "cell_type": "code",
   "execution_count": null,
   "id": "5fa4d40d",
   "metadata": {},
   "outputs": [],
   "source": []
  }
 ],
 "metadata": {
  "kernelspec": {
   "display_name": "Python 3",
   "language": "python",
   "name": "python3"
  },
  "language_info": {
   "codemirror_mode": {
    "name": "ipython",
    "version": 3
   },
   "file_extension": ".py",
   "mimetype": "text/x-python",
   "name": "python",
   "nbconvert_exporter": "python",
   "pygments_lexer": "ipython3",
   "version": "3.10.12"
  }
 },
 "nbformat": 4,
 "nbformat_minor": 5
}
