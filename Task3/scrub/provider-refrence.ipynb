{
 "cells": [
  {
   "cell_type": "code",
   "execution_count": 11,
   "id": "2048f19a",
   "metadata": {},
   "outputs": [],
   "source": [
    "from pyspark.sql import SparkSession"
   ]
  },
  {
   "cell_type": "code",
   "execution_count": 12,
   "id": "7eeb7a3b",
   "metadata": {},
   "outputs": [],
   "source": [
    "from pyspark.sql.functions import explode,col,expr,array,when\n",
    "from pyspark.sql.types import ArrayType, IntegerType, ShortType"
   ]
  },
  {
   "cell_type": "code",
   "execution_count": 13,
   "id": "9d66273a",
   "metadata": {},
   "outputs": [],
   "source": [
    "spark = SparkSession.builder.appName(\"task\").getOrCreate()"
   ]
  },
  {
   "cell_type": "code",
   "execution_count": 14,
   "id": "765d100c",
   "metadata": {},
   "outputs": [
    {
     "data": {
      "text/html": [
       "\n",
       "            <div>\n",
       "                <p><b>SparkSession - in-memory</b></p>\n",
       "                \n",
       "        <div>\n",
       "            <p><b>SparkContext</b></p>\n",
       "\n",
       "            <p><a href=\"http://10.10.42.184:4040\">Spark UI</a></p>\n",
       "\n",
       "            <dl>\n",
       "              <dt>Version</dt>\n",
       "                <dd><code>v3.5.5</code></dd>\n",
       "              <dt>Master</dt>\n",
       "                <dd><code>local[*]</code></dd>\n",
       "              <dt>AppName</dt>\n",
       "                <dd><code>task</code></dd>\n",
       "            </dl>\n",
       "        </div>\n",
       "        \n",
       "            </div>\n",
       "        "
      ],
      "text/plain": [
       "<pyspark.sql.session.SparkSession at 0x7991184ed420>"
      ]
     },
     "execution_count": 14,
     "metadata": {},
     "output_type": "execute_result"
    }
   ],
   "source": [
    "spark"
   ]
  },
  {
   "cell_type": "code",
   "execution_count": 15,
   "id": "861d34b9",
   "metadata": {},
   "outputs": [],
   "source": [
    "df_pyspark = spark.read.option('multiline','true').json('provider.json')"
   ]
  },
  {
   "cell_type": "code",
   "execution_count": 16,
   "id": "4a36a6ed",
   "metadata": {},
   "outputs": [
    {
     "name": "stdout",
     "output_type": "stream",
     "text": [
      "root\n",
      " |-- provider_group_id: long (nullable = true)\n",
      " |-- provider_groups: array (nullable = true)\n",
      " |    |-- element: struct (containsNull = true)\n",
      " |    |    |-- npi: array (nullable = true)\n",
      " |    |    |    |-- element: long (containsNull = true)\n",
      " |    |    |-- tin: struct (nullable = true)\n",
      " |    |    |    |-- type: string (nullable = true)\n",
      " |    |    |    |-- value: string (nullable = true)\n",
      "\n"
     ]
    }
   ],
   "source": [
    "df_pyspark.printSchema()"
   ]
  },
  {
   "cell_type": "code",
   "execution_count": 17,
   "id": "ea392e90",
   "metadata": {},
   "outputs": [],
   "source": [
    "provider_group = df_pyspark.withColumn(\"new_provider\", explode(\"provider_groups\"))\n",
    "provider_new = provider_group.withColumn(\"npi\",explode(\"new_provider.npi\"))\n",
    "provider_again = provider_new.select(\n",
    "    \"provider_group_id\",\n",
    "    col(\"npi\").alias(\"npi\"),\n",
    "    col(\"new_provider.tin.type\").alias(\"tin_type\"),\n",
    "    col(\"new_provider.tin.value\").alias(\"tin\")\n",
    ")"
   ]
  },
  {
   "cell_type": "code",
   "execution_count": 18,
   "id": "82e45c02",
   "metadata": {},
   "outputs": [
    {
     "name": "stdout",
     "output_type": "stream",
     "text": [
      "root\n",
      " |-- provider_group_id: long (nullable = true)\n",
      " |-- npi: long (nullable = true)\n",
      " |-- tin_type: string (nullable = true)\n",
      " |-- tin: string (nullable = true)\n",
      "\n"
     ]
    }
   ],
   "source": [
    "provider_again.printSchema()"
   ]
  },
  {
   "cell_type": "code",
   "execution_count": 19,
   "id": "90c86626",
   "metadata": {},
   "outputs": [
    {
     "name": "stdout",
     "output_type": "stream",
     "text": [
      "+-----------------+----------+--------+----------+\n",
      "|provider_group_id|       npi|tin_type|       tin|\n",
      "+-----------------+----------+--------+----------+\n",
      "|         10001001|1235233008|     ein|04-3267217|\n",
      "|         10001001|1316041189|     ein|04-3267217|\n",
      "|         10001001|1780788554|     ein|04-3267217|\n",
      "|         10001001|1891068409|     ein|04-3267217|\n",
      "|         10001001|1366459570|     ein|11-1562701|\n",
      "|         10001001|1417915653|     ein|11-3358535|\n",
      "|         10001001|1417915653|     ein|13-3888838|\n",
      "|         10002001|1609829761|     ein|00-0004110|\n",
      "|         10002001|1821482241|     ein|00-0004110|\n",
      "|         10002001|1760986277|     ein|00-6980743|\n",
      "|         10002001|1215075882|     ein|01-0550744|\n",
      "|         10002001|1013917665|     ein|01-0555304|\n",
      "|         10002001|1679780811|     ein|01-0555483|\n",
      "|         10002001|1700093952|     ein|01-0555483|\n",
      "|         10002001|1780072447|     ein|01-0555483|\n",
      "|         10002001|1952532970|     ein|01-0555483|\n",
      "|         10002001|1376647511|     ein|01-0567880|\n",
      "|         10002001|1740287010|     ein|01-0569673|\n",
      "|         10002001|1265538219|     ein|01-0571165|\n",
      "|         10002001|1689625253|     ein|01-0577025|\n",
      "+-----------------+----------+--------+----------+\n",
      "only showing top 20 rows\n",
      "\n"
     ]
    }
   ],
   "source": [
    "provider_again.show()"
   ]
  },
  {
   "cell_type": "code",
   "execution_count": 20,
   "id": "902c7332",
   "metadata": {},
   "outputs": [],
   "source": [
    "provider_cast = provider_again.withColumn(\"tin_type\", col(\"tin_type\").cast(ShortType()))"
   ]
  },
  {
   "cell_type": "code",
   "execution_count": 21,
   "id": "5b457afc",
   "metadata": {},
   "outputs": [
    {
     "name": "stdout",
     "output_type": "stream",
     "text": [
      "root\n",
      " |-- provider_group_id: long (nullable = true)\n",
      " |-- npi: long (nullable = true)\n",
      " |-- tin_type: short (nullable = true)\n",
      " |-- tin: string (nullable = true)\n",
      "\n"
     ]
    }
   ],
   "source": [
    "provider_cast.printSchema()"
   ]
  },
  {
   "cell_type": "code",
   "execution_count": 22,
   "id": "2a93197c",
   "metadata": {},
   "outputs": [
    {
     "name": "stderr",
     "output_type": "stream",
     "text": [
      "                                                                                \r"
     ]
    }
   ],
   "source": [
    "provider_cast.write.parquet('provider_output.parquet')"
   ]
  },
  {
   "cell_type": "code",
   "execution_count": null,
   "id": "29c152a3",
   "metadata": {},
   "outputs": [],
   "source": []
  }
 ],
 "metadata": {
  "kernelspec": {
   "display_name": "Python 3",
   "language": "python",
   "name": "python3"
  },
  "language_info": {
   "codemirror_mode": {
    "name": "ipython",
    "version": 3
   },
   "file_extension": ".py",
   "mimetype": "text/x-python",
   "name": "python",
   "nbconvert_exporter": "python",
   "pygments_lexer": "ipython3",
   "version": "3.10.12"
  }
 },
 "nbformat": 4,
 "nbformat_minor": 5
}
