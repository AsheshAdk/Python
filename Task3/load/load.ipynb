{
 "cells": [
  {
   "cell_type": "code",
   "execution_count": 1,
   "id": "d12e6385",
   "metadata": {},
   "outputs": [],
   "source": [
    "from pyspark.sql import SparkSession"
   ]
  },
  {
   "cell_type": "code",
   "execution_count": 2,
   "id": "1cbe3915",
   "metadata": {},
   "outputs": [],
   "source": [
    "import psycopg2"
   ]
  },
  {
   "cell_type": "code",
   "execution_count": 3,
   "id": "82d26f87",
   "metadata": {},
   "outputs": [
    {
     "name": "stderr",
     "output_type": "stream",
     "text": [
      "25/05/09 11:39:07 WARN Utils: Your hostname, zaki-desktop resolves to a loopback address: 127.0.1.1; using 10.10.42.184 instead (on interface enp2s0)\n",
      "25/05/09 11:39:07 WARN Utils: Set SPARK_LOCAL_IP if you need to bind to another address\n",
      "Setting default log level to \"WARN\".\n",
      "To adjust logging level use sc.setLogLevel(newLevel). For SparkR, use setLogLevel(newLevel).\n",
      "25/05/09 11:39:08 WARN NativeCodeLoader: Unable to load native-hadoop library for your platform... using builtin-java classes where applicable\n"
     ]
    }
   ],
   "source": [
    "spark = SparkSession.builder \\\n",
    "    .appName(\"MyApp\") \\\n",
    "    .config(\"spark.eventLog.gcMetrics.youngGenerationGarbageCollectors\", \"G1 Young Generation\") \\\n",
    "    .config(\"spark.eventLog.gcMetrics.oldGenerationGarbageCollectors\", \"G1 Old Generation\") \\\n",
    "    .getOrCreate()"
   ]
  },
  {
   "cell_type": "code",
   "execution_count": 4,
   "id": "9cb20a34",
   "metadata": {},
   "outputs": [
    {
     "name": "stderr",
     "output_type": "stream",
     "text": [
      "                                                                                \r"
     ]
    }
   ],
   "source": [
    "df = spark.read.parquet(\"/home/zaki/Pictures/provider_output.parquet\")\n",
    "df1=spark.read.parquet(\"/home/zaki/Pictures/net_output.parquet\")"
   ]
  },
  {
   "cell_type": "code",
   "execution_count": 5,
   "id": "ff89a67a",
   "metadata": {},
   "outputs": [],
   "source": [
    "conn = psycopg2.connect(\n",
    "    dbname=\"postgres\",\n",
    "    user=\"postgres\",\n",
    "    password=\"Ashesh\",\n",
    "    host=\"localhost\",\n",
    "    port=5432\n",
    ")"
   ]
  },
  {
   "cell_type": "code",
   "execution_count": 6,
   "id": "d336adf3",
   "metadata": {},
   "outputs": [],
   "source": [
    "jdbc_url = \"jdbc:postgresql://localhost:5432/postgres\"\n",
    "connection_properties = {\n",
    "    \"user\": \"postgres\",\n",
    "    \"password\": \"Ashesh\",\n",
    "    \"driver\": \"org.postgresql.Driver\"\n",
    "}"
   ]
  },
  {
   "cell_type": "code",
   "execution_count": 7,
   "id": "c82d276c",
   "metadata": {},
   "outputs": [
    {
     "name": "stdout",
     "output_type": "stream",
     "text": [
      "root\n",
      " |-- billing_code: string (nullable = true)\n",
      " |-- billing_code_type: string (nullable = true)\n",
      " |-- negotiation_arrangement: string (nullable = true)\n",
      " |-- billing_code_modifier: array (nullable = true)\n",
      " |    |-- element: string (containsNull = true)\n",
      " |-- billing_class: string (nullable = true)\n",
      " |-- negotiated_rate: double (nullable = true)\n",
      " |-- service_code: array (nullable = true)\n",
      " |    |-- element: integer (containsNull = true)\n",
      " |-- provider_group_id: long (nullable = true)\n",
      " |-- negotiated_type: string (nullable = true)\n",
      "\n"
     ]
    }
   ],
   "source": [
    "df1.printSchema()"
   ]
  },
  {
   "cell_type": "code",
   "execution_count": 8,
   "id": "4e13fa96",
   "metadata": {},
   "outputs": [],
   "source": [
    "cur = conn.cursor()\n",
    "create_table_query = \"\"\"\n",
    "DROP TABLE IF EXISTS in_network_data;\n",
    "CREATE TABLE IF NOT EXISTS in_network_data (\n",
    "    billing_code TEXT,\n",
    "    billing_code_type TEXT,\n",
    "    negotiation_arrangement TEXT,\n",
    "    billing_code_modifier TEXT[],\n",
    "    billing_class TEXT,\n",
    "    negotiated_rate DOUBLE PRECISION,\n",
    "    service_code INTEGER[],\n",
    "    provider_group_id BIGINT,\n",
    "    negotiated_type TEXT\n",
    ");\n",
    "\"\"\"\n",
    "\n",
    "cur.execute(create_table_query)\n",
    "conn.commit()"
   ]
  },
  {
   "cell_type": "code",
   "execution_count": 9,
   "id": "bda64a4b",
   "metadata": {},
   "outputs": [
    {
     "name": "stderr",
     "output_type": "stream",
     "text": [
      "                                                                                \r"
     ]
    }
   ],
   "source": [
    "df1.write.jdbc(url=jdbc_url,table=\"in_network_data\",mode=\"append\", properties=connection_properties)\n",
    "conn.commit()"
   ]
  },
  {
   "cell_type": "code",
   "execution_count": 10,
   "id": "fd79c68a",
   "metadata": {},
   "outputs": [],
   "source": [
    "cursor = conn.cursor()\n",
    "provider_table = \"\"\"\n",
    "CREATE TABLE IF NOT EXISTS provider_table(\n",
    "    provider_group_id BIGINT,\n",
    "    npi BIGINT,\n",
    "    tin_type SMALLINT,\n",
    "    tin TEXT\n",
    ");\n",
    "\"\"\"\n",
    "cursor.execute(provider_table)\n",
    "conn.commit()"
   ]
  },
  {
   "cell_type": "code",
   "execution_count": 11,
   "id": "5330a468",
   "metadata": {},
   "outputs": [
    {
     "name": "stderr",
     "output_type": "stream",
     "text": [
      "                                                                                \r"
     ]
    }
   ],
   "source": [
    "df.write.jdbc(url=jdbc_url,table=\"provider_table\",mode=\"append\", properties=connection_properties)\n",
    "conn.commit()"
   ]
  },
  {
   "cell_type": "code",
   "execution_count": null,
   "id": "1c5611bc",
   "metadata": {},
   "outputs": [],
   "source": []
  }
 ],
 "metadata": {
  "kernelspec": {
   "display_name": "Python 3",
   "language": "python",
   "name": "python3"
  },
  "language_info": {
   "codemirror_mode": {
    "name": "ipython",
    "version": 3
   },
   "file_extension": ".py",
   "mimetype": "text/x-python",
   "name": "python",
   "nbconvert_exporter": "python",
   "pygments_lexer": "ipython3",
   "version": "3.10.12"
  }
 },
 "nbformat": 4,
 "nbformat_minor": 5
}
